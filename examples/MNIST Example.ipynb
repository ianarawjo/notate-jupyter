{
 "cells": [
  {
   "cell_type": "markdown",
   "metadata": {
    "notate_canvi": {}
   },
   "source": [
    "# Obligatory MNIST Example\n",
    "## Setup"
   ]
  },
  {
   "cell_type": "code",
   "execution_count": null,
   "metadata": {
    "notate_canvi": {}
   },
   "outputs": [],
   "source": [
    "# MNIST training code from https://keras.io/examples/vision/mnist_convnet/\n",
    "import numpy as np\n",
    "from tensorflow import keras\n",
    "from tensorflow.keras import layers\n",
    "from skimage.transform import resize # extra import for resizing images\n",
    "import matplotlib.pyplot as plt"
   ]
  },
  {
   "cell_type": "code",
   "execution_count": 1,
   "metadata": {
    "notate_canvi": {}
   },
   "outputs": [
    {
     "name": "stdout",
     "output_type": "stream",
     "text": [
      "x_train shape: (60000, 28, 28, 1)\n",
      "60000 train samples\n",
      "10000 test samples\n",
      "Train on 54000 samples, validate on 6000 samples\n",
      "Epoch 1/5\n",
      "54000/54000 [==============================] - 30s 547us/sample - loss: 0.3606 - accuracy: 0.8911 - val_loss: 0.0884 - val_accuracy: 0.9763\n",
      "Epoch 2/5\n",
      "54000/54000 [==============================] - 29s 541us/sample - loss: 0.1162 - accuracy: 0.9639 - val_loss: 0.0638 - val_accuracy: 0.9808\n",
      "Epoch 3/5\n",
      "54000/54000 [==============================] - 29s 533us/sample - loss: 0.0883 - accuracy: 0.9732 - val_loss: 0.0501 - val_accuracy: 0.9868\n",
      "Epoch 4/5\n",
      "54000/54000 [==============================] - 28s 516us/sample - loss: 0.0740 - accuracy: 0.9769 - val_loss: 0.0449 - val_accuracy: 0.9878\n",
      "Epoch 5/5\n",
      "54000/54000 [==============================] - 28s 516us/sample - loss: 0.0653 - accuracy: 0.9798 - val_loss: 0.0408 - val_accuracy: 0.9880\n"
     ]
    },
    {
     "data": {
      "text/plain": [
       "<tensorflow.python.keras.callbacks.History at 0x142120898>"
      ]
     },
     "execution_count": 1,
     "metadata": {},
     "output_type": "execute_result"
    }
   ],
   "source": [
    "# Model / data parameters\n",
    "num_classes = 10\n",
    "input_shape = (28, 28, 1)\n",
    "\n",
    "# the data, split between train and test sets\n",
    "(x_train, y_train), (x_test, y_test) = keras.datasets.mnist.load_data()\n",
    "\n",
    "# Scale images to the [0, 1] range\n",
    "x_train = x_train.astype(\"float32\") / 255\n",
    "x_test = x_test.astype(\"float32\") / 255\n",
    "# Make sure images have shape (28, 28, 1)\n",
    "x_train = np.expand_dims(x_train, -1)\n",
    "x_test = np.expand_dims(x_test, -1)\n",
    "print(\"x_train shape:\", x_train.shape)\n",
    "print(x_train.shape[0], \"train samples\")\n",
    "print(x_test.shape[0], \"test samples\")\n",
    "\n",
    "# convert class vectors to binary class matrices\n",
    "y_train = keras.utils.to_categorical(y_train, num_classes)\n",
    "y_test = keras.utils.to_categorical(y_test, num_classes)\n",
    "\n",
    "# Build + train the model \n",
    "model = keras.Sequential(\n",
    "    [\n",
    "        keras.Input(shape=input_shape),\n",
    "        layers.Conv2D(32, kernel_size=(3, 3), activation=\"relu\"),\n",
    "        layers.MaxPooling2D(pool_size=(2, 2)),\n",
    "        layers.Conv2D(64, kernel_size=(3, 3), activation=\"relu\"),\n",
    "        layers.MaxPooling2D(pool_size=(2, 2)),\n",
    "        layers.Flatten(),\n",
    "        layers.Dropout(0.5),\n",
    "        layers.Dense(num_classes, activation=\"softmax\"),\n",
    "    ]\n",
    ")\n",
    "model.compile(loss=\"categorical_crossentropy\", optimizer=\"adam\", metrics=[\"accuracy\"])\n",
    "model.fit(x_train, y_train, batch_size=128, epochs=5, validation_split=0.1)"
   ]
  },
  {
   "cell_type": "markdown",
   "metadata": {
    "notate_canvi": {}
   },
   "source": [
    "## Predict"
   ]
  },
  {
   "cell_type": "code",
   "execution_count": 63,
   "metadata": {
    "notate_canvi": {
     "__c_2__": "data:image/png;base64,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"
    }
   },
   "outputs": [
    {
     "name": "stdout",
     "output_type": "stream",
     "text": [
      "Predicted: 8\n"
     ]
    }
   ],
   "source": [
    "img = resize(__c_2__, (28, 28))\n",
    "preds = model.predict(img.reshape(1,28,28,1))[0]\n",
    "print(\"Predicted:\", np.argmax(preds))"
   ]
  },
  {
   "cell_type": "code",
   "execution_count": 58,
   "metadata": {
    "notate_canvi": {}
   },
   "outputs": [
    {
     "data": {
      "text/plain": [
       "<matplotlib.image.AxesImage at 0x1454aa358>"
      ]
     },
     "execution_count": 58,
     "metadata": {},
     "output_type": "execute_result"
    },
    {
     "data": {
      "image/png": "[encoded data removed]",
      "text/plain": [
       "<Figure size 432x288 with 1 Axes>"
      ]
     },
     "metadata": {
      "needs_background": "light"
     },
     "output_type": "display_data"
    }
   ],
   "source": [
    "plt.imshow(img, cmap='gray')"
   ]
  },
  {
   "cell_type": "code",
   "execution_count": 69,
   "metadata": {
    "notate_canvi": {
     "__c_5__": "data:image/png;base64,iVBORw0KGgoAAAANSUhEUgAAAHQAAAB2CAYAAAAZUrcsAAAFa0lEQVR4Xu2dW6imUxjHf9t5xBiKCZFxyDGhiQsXcowoQjncqHHngrhxKNQ0YaamlNy54IJSlBHKuZhEkyiHJFLIhUMOOY1z/+l965k1nz3fnvae9vNfz6rd3rvv2/tb///vfdZ637WetdYMVawcmLFSU2IooGYXQQEtoGYOmMmpCC2gZg6YyakILaBmDpjJqQgtoGYOmMmpCC2gZg6YyakILaBmDpjJqQgtoGYOmMmpCC2gZg6YyekxQq8CfgaeNWO5RU5PQA8DXgSOHYAeOQD9xglsL0DXATcDuzXw/gV2KaB5HPgQOG6WlqiAJmF5OvA6sMd26vv3hKhNInFyNR2bXPWT5055f/DnFNBTAXYBejVwP3DQLCAVjY8AqwKhv4DdUxHbTmVdgN4H3DqL1q+AQ4evL8P7/gF2LaCLzwHdvf7RRKci8ndgP0A/qwhqBKrn0X0Xn5wdr5FLhMoBReHBgxUC+DxwcWNNC7QidMevnQX/y9eA74Fvgev/59MqQhccw879gBboZmCvnVuFhf00pyZ3GqcK6DQuJXpPAU0Ea5qqFtBpXEr0nqXAj6G+Pw2PNYkkzF7V3vvQGstNfim3Te4vwD7JNW1V/d4itJpcp6t3wtBfzbYkB9w2ub8BeyfXVE1u3eX6XMI1luvDcouSmm0xA1p3uQU0lwO9PYe2Ta6yHPbMhayG/qIDLVClqCwpoHkdqD40L7uJNT8A+C68ooEFjeUqt8ii9NaHHg9oecRYKusv+WWsJRJvBQ3vAKcl19T10N+lwFPBgecmpHqm5ttbk3svcFsg9jQgyDalN6AvDQuZRoBvAGfa0JxyhZaT3tuBe4IgRewdTgJ7i9Bnmj5zA3BZAc3rwCvA2aH6Wj5xVl4529a8twh9ELgh2HAj8EABzevAB8AJofp3AmvyyqkI/QQ4qoD6XMIaGTolyFkJvO0jr6+Np8Tt12a67FTg3QKa1wEtCF4Wqn848EVeOdWHfg0cGGzQrim1NVziK1qLk+JWcJpO+yixnm2q3ttzqCa3Nck9Fm3k+HEBzetAG6EnA+/lldN3H6rsPiWFxbIcUL9qU3pqcs8A3gzk7HZAkbaegF4HPByAatToGJvQHIT0BLTNVlBTqybXqvQE9AngikDPLv2ktyZXyWExf+hl4Dyr8OysD1U+rgYSxrK2SRizYNtTk/s+cGKgthq424JiENET0Hbq7HxAWYBWpSegGlSISweVS6ScIqvSE9DPgCMCPS2L2GRFs7ObIh0YEPeX18EDjxfQvA5oG7i4J9GFwzbmeRVNqHlPTa52DYtHZVUfmvxSbpvcC4bD7ZLL2rr6vUSoshTGoz5GB/RMGhf/WoDtBajGcDWWOxa7zTJGYb0Afag5+sNuF87egD4GXBMi1G5r8t6AbmwW9trtZN0b0HblthYtnWRxF9SI6KUP/aE5/eFJ4MoCmteBzwEdqj4WLc3XEZV2pYcI1fJBJVPHjPn9AUVtLHo9/Y5i2YHeBVwLaK5Tx0vGrL4RllZsa+V2LI8O54hqgF4QV4QX9bv2Xrg8Y/hmByrzowb9rpPv9V13sjpUXSNEcz30Vc+plwAvZIPqBnS+/FcymbIC05XMQHWI+k0L5Lh26FSEpyuZga4HbpkHx9U8fwroRkk3RtpdTH1rAZ0Hc+f6L7QaW+dsaypMSxuUCX/O8IiipYOa0NamxzqfWzc+mkJT9t/RwKvARcOC30Pm+sGL9f2ZI3SungqioFuXnoBagxzFFVAzzAW0gJo5YCanIrSAmjlgJqcitICaOWAmpyK0gJo5YCanIrSAmjlgJqcitICaOWAmpyK0gJo5YCanIrSAmjlgJqcitICaOWAm5z+v5cR3ZGTJFwAAAABJRU5ErkJggg==",
     "__c_6__": "data:image/png;base64,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",
     "__c_7__": "data:image/png;base64,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"
    }
   },
   "outputs": [
    {
     "name": "stdout",
     "output_type": "stream",
     "text": [
      "[1, 2, 3]\n"
     ]
    }
   ],
   "source": [
    "nums = [__c_5__,__c_6__,__c_7__]\n",
    "nums = [resize(n, (28,28,1)) for n in nums]\n",
    "preds = model.predict([nums])\n",
    "print([np.argmax(p) for p in preds])"
   ]
  }
 ],
 "metadata": {
  "kernelspec": {
   "display_name": "Python 3",
   "language": "python",
   "name": "python3"
  },
  "language_info": {
   "codemirror_mode": {
    "name": "ipython",
    "version": 3
   },
   "file_extension": ".py",
   "mimetype": "text/x-python",
   "name": "python",
   "nbconvert_exporter": "python",
   "pygments_lexer": "ipython3",
   "version": "3.7.3"
  }
 },
 "nbformat": 4,
 "nbformat_minor": 2
}
